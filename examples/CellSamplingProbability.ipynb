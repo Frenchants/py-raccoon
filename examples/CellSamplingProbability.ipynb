{
 "cells": [
  {
   "cell_type": "code",
   "execution_count": null,
   "metadata": {},
   "outputs": [],
   "source": [
    "!pip install pandas py-raccoon"
   ]
  },
  {
   "cell_type": "code",
   "execution_count": 1,
   "metadata": {},
   "outputs": [],
   "source": [
    "import py_raccoon as pr\n",
    "import numpy as np\n",
    "import pandas as pd"
   ]
  },
  {
   "cell_type": "code",
   "execution_count": 2,
   "metadata": {},
   "outputs": [],
   "source": [
    "n = 20\n",
    "P = np.zeros(n + 1)\n",
    "P[3] = .5\n",
    "P[10] = 1E-4\n",
    "P[19] = 1.0 # Cells of length 19 will be difficult to sample, so the result will likely not contain any. See our paper for more information.\n",
    "\n",
    "with np.errstate(divide='ignore'):\n",
    "    log_P = np.log2(P) # Practical probabilities for greater $l$ are very small, thus represented logarithmically.\n",
    "\n",
    "# Generates CC based on G(20,0.3). Each possible cell of length l is selected with probability P[l], sampled using 100 spanning trees.\n",
    "G, cells, _, _ = pr.uniform_cc(n, 0.3, P=log_P, samples=100)"
   ]
  },
  {
   "cell_type": "code",
   "execution_count": 3,
   "metadata": {},
   "outputs": [
    {
     "name": "stdout",
     "output_type": "stream",
     "text": [
      "3: 30, 10: 127\n",
      "3: 29, 10: 200\n",
      "3: 11, 10: 18\n",
      "3: 16, 10: 13, 19: 1\n",
      "3: 25, 10: 19\n",
      "3: 16, 10: 39\n",
      "3: 15, 10: 25, 19: 1\n",
      "3: 15, 10: 29\n",
      "3: 23, 10: 68\n",
      "3: 6, 10: 1\n",
      "3: 14, 10: 6\n",
      "3: 16, 10: 4\n",
      "3: 19, 10: 92\n",
      "3: 16, 10: 10\n",
      "3: 11, 10: 16\n",
      "3: 14, 10: 10\n",
      "3: 9, 10: 3\n",
      "3: 11, 10: 6\n",
      "3: 12, 10: 12\n",
      "3: 18, 10: 63\n"
     ]
    }
   ],
   "source": [
    "# Different samples may have a large variance in the number of cells sampled per length\n",
    "for _ in range(20):\n",
    "    G, cells, _, _ = pr.uniform_cc(n, 0.3, P=log_P, samples=1000)\n",
    "    print(\", \".join([f'{idx}: {val}' for idx, val in pd.Series([len(c) for c in cells]).value_counts().sort_index().items()]))"
   ]
  }
 ],
 "metadata": {
  "kernelspec": {
   "display_name": ".venv",
   "language": "python",
   "name": "python3"
  },
  "language_info": {
   "codemirror_mode": {
    "name": "ipython",
    "version": 3
   },
   "file_extension": ".py",
   "mimetype": "text/x-python",
   "name": "python",
   "nbconvert_exporter": "python",
   "pygments_lexer": "ipython3",
   "version": "3.11.5"
  }
 },
 "nbformat": 4,
 "nbformat_minor": 2
}
